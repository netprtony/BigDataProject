{
 "cells": [
  {
   "cell_type": "code",
   "execution_count": 8,
   "metadata": {},
   "outputs": [
    {
     "name": "stdout",
     "output_type": "stream",
     "text": [
      "+---------+------+---+--------------------+--------------+----------------+-----------------------+------------+-------------+--------------+----------+-----------+--------------+\n",
      "|Person ID|Gender|Age|          Occupation|Sleep Duration|Quality of Sleep|Physical Activity Level|Stress Level| BMI Category|Blood Pressure|Heart Rate|Daily Steps|Sleep Disorder|\n",
      "+---------+------+---+--------------------+--------------+----------------+-----------------------+------------+-------------+--------------+----------+-----------+--------------+\n",
      "|        1|  Male| 27|   Software Engineer|           6.1|               6|                     42|           6|   Overweight|        126/83|        77|       4200|          None|\n",
      "|        2|  Male| 28|              Doctor|           6.2|               6|                     60|           8|       Normal|        125/80|        75|      10000|          None|\n",
      "|        3|  Male| 28|              Doctor|           6.2|               6|                     60|           8|       Normal|        125/80|        75|      10000|          None|\n",
      "|        4|  Male| 28|Sales Representative|           5.9|               4|                     30|           8|        Obese|        140/90|        85|       3000|   Sleep Apnea|\n",
      "|        5|  Male| 28|Sales Representative|           5.9|               4|                     30|           8|        Obese|        140/90|        85|       3000|   Sleep Apnea|\n",
      "|        6|  Male| 28|   Software Engineer|           5.9|               4|                     30|           8|        Obese|        140/90|        85|       3000|      Insomnia|\n",
      "|        7|  Male| 29|             Teacher|           6.3|               6|                     40|           7|        Obese|        140/90|        82|       3500|      Insomnia|\n",
      "|        8|  Male| 29|              Doctor|           7.8|               7|                     75|           6|       Normal|        120/80|        70|       8000|          None|\n",
      "|        9|  Male| 29|              Doctor|           7.8|               7|                     75|           6|       Normal|        120/80|        70|       8000|          None|\n",
      "|       10|  Male| 29|              Doctor|           7.8|               7|                     75|           6|       Normal|        120/80|        70|       8000|          None|\n",
      "|       11|  Male| 29|              Doctor|           6.1|               6|                     30|           8|       Normal|        120/80|        70|       8000|          None|\n",
      "|       12|  Male| 29|              Doctor|           7.8|               7|                     75|           6|       Normal|        120/80|        70|       8000|          None|\n",
      "|       13|  Male| 29|              Doctor|           6.1|               6|                     30|           8|       Normal|        120/80|        70|       8000|          None|\n",
      "|       14|  Male| 29|              Doctor|           6.0|               6|                     30|           8|       Normal|        120/80|        70|       8000|          None|\n",
      "|       15|  Male| 29|              Doctor|           6.0|               6|                     30|           8|       Normal|        120/80|        70|       8000|          None|\n",
      "|       16|  Male| 29|              Doctor|           6.0|               6|                     30|           8|       Normal|        120/80|        70|       8000|          None|\n",
      "|       17|Female| 29|               Nurse|           6.5|               5|                     40|           7|Normal Weight|        132/87|        80|       4000|   Sleep Apnea|\n",
      "|       18|  Male| 29|              Doctor|           6.0|               6|                     30|           8|       Normal|        120/80|        70|       8000|   Sleep Apnea|\n",
      "|       19|Female| 29|               Nurse|           6.5|               5|                     40|           7|Normal Weight|        132/87|        80|       4000|      Insomnia|\n",
      "|       20|  Male| 30|              Doctor|           7.6|               7|                     75|           6|       Normal|        120/80|        70|       8000|          None|\n",
      "+---------+------+---+--------------------+--------------+----------------+-----------------------+------------+-------------+--------------+----------+-----------+--------------+\n",
      "only showing top 20 rows\n",
      "\n",
      "root\n",
      " |-- Person ID: integer (nullable = true)\n",
      " |-- Gender: string (nullable = true)\n",
      " |-- Age: integer (nullable = true)\n",
      " |-- Occupation: string (nullable = true)\n",
      " |-- Sleep Duration: double (nullable = true)\n",
      " |-- Quality of Sleep: integer (nullable = true)\n",
      " |-- Physical Activity Level: integer (nullable = true)\n",
      " |-- Stress Level: integer (nullable = true)\n",
      " |-- BMI Category: string (nullable = true)\n",
      " |-- Blood Pressure: string (nullable = true)\n",
      " |-- Heart Rate: integer (nullable = true)\n",
      " |-- Daily Steps: integer (nullable = true)\n",
      " |-- Sleep Disorder: string (nullable = true)\n",
      "\n"
     ]
    }
   ],
   "source": [
    "from pyspark.sql import SparkSession\n",
    "\n",
    "# Khởi tạo Spark session\n",
    "spark = SparkSession.builder \\\n",
    "    .appName(\"Sleep Health Analysis\") \\\n",
    "    .config(\"spark.master\", \"local\") \\\n",
    "    .getOrCreate()\n",
    "\n",
    "# Đọc file CSV vào Spark DataFrame\n",
    "df = spark.read.csv(\"E:\\\\Sleep_health_and_lifestyle_dataset.csv\", header=True, inferSchema=True)\n",
    "\n",
    "# Kiểm tra dữ liệu\n",
    "df.show()\n",
    "df.printSchema()"
   ]
  },
  {
   "cell_type": "code",
   "execution_count": 9,
   "metadata": {},
   "outputs": [
    {
     "name": "stdout",
     "output_type": "stream",
     "text": [
      "+-------+------------------+------+-----------------+----------+------------------+------------------+-----------------------+------------------+------------+--------------+-----------------+------------------+--------------+\n",
      "|summary|         Person ID|Gender|              Age|Occupation|    Sleep Duration|  Quality of Sleep|Physical Activity Level|      Stress Level|BMI Category|Blood Pressure|       Heart Rate|       Daily Steps|Sleep Disorder|\n",
      "+-------+------------------+------+-----------------+----------+------------------+------------------+-----------------------+------------------+------------+--------------+-----------------+------------------+--------------+\n",
      "|  count|               374|   374|              374|       374|               374|               374|                    374|               374|         374|           374|              374|               374|           374|\n",
      "|   mean|             187.5|  NULL|42.18449197860963|      NULL| 7.132085561497317|  7.31283422459893|      59.17112299465241| 5.385026737967914|        NULL|          NULL|70.16577540106952| 6816.844919786096|          NULL|\n",
      "| stddev|108.10874155219827|  NULL|8.673133465547242|      NULL|0.7956567308898186|1.1969559197336053|     20.830803658071662|1.7745264441985202|        NULL|          NULL|4.135675535112212|1617.9156791336366|          NULL|\n",
      "|    min|                 1|Female|               27|Accountant|               5.8|                 4|                     30|                 3|      Normal|        115/75|               65|              3000|      Insomnia|\n",
      "|    max|               374|  Male|               59|   Teacher|               8.5|                 9|                     90|                 8|  Overweight|        142/92|               86|             10000|   Sleep Apnea|\n",
      "+-------+------------------+------+-----------------+----------+------------------+------------------+-----------------------+------------------+------------+--------------+-----------------+------------------+--------------+\n",
      "\n",
      "+-------+------------------+------------------+------------------+\n",
      "|summary|    Sleep Duration|  Quality of Sleep|      Stress Level|\n",
      "+-------+------------------+------------------+------------------+\n",
      "|  count|               374|               374|               374|\n",
      "|   mean| 7.132085561497317|  7.31283422459893| 5.385026737967914|\n",
      "| stddev|0.7956567308898186|1.1969559197336053|1.7745264441985202|\n",
      "|    min|               5.8|                 4|                 3|\n",
      "|    max|               8.5|                 9|                 8|\n",
      "+-------+------------------+------------------+------------------+\n",
      "\n"
     ]
    }
   ],
   "source": [
    "# Kiểm tra các giá trị thiếu và các thống kê mô tả cho các trường\n",
    "df.describe().show()\n",
    "\n",
    "# Kiểm tra thống kê cho một số trường cụ thể\n",
    "df.select(\"Sleep Duration\", \"Quality of Sleep\", \"Stress Level\").describe().show()"
   ]
  },
  {
   "cell_type": "code",
   "execution_count": 10,
   "metadata": {},
   "outputs": [
    {
     "name": "stdout",
     "output_type": "stream",
     "text": [
      "+---------+----------+\n",
      "|Person ID|prediction|\n",
      "+---------+----------+\n",
      "|        1|         2|\n",
      "|        2|         0|\n",
      "|        3|         0|\n",
      "|        4|         2|\n",
      "|        5|         2|\n",
      "|        6|         2|\n",
      "|        7|         2|\n",
      "|        8|         1|\n",
      "|        9|         1|\n",
      "|       10|         1|\n",
      "|       11|         2|\n",
      "|       12|         1|\n",
      "|       13|         2|\n",
      "|       14|         2|\n",
      "|       15|         2|\n",
      "|       16|         2|\n",
      "|       17|         2|\n",
      "|       18|         2|\n",
      "|       19|         2|\n",
      "|       20|         1|\n",
      "+---------+----------+\n",
      "only showing top 20 rows\n",
      "\n"
     ]
    }
   ],
   "source": [
    "from pyspark.ml.clustering import KMeans\n",
    "from pyspark.ml.feature import VectorAssembler\n",
    "\n",
    "# Lựa chọn các đặc trưng để phân nhóm\n",
    "features = [\"Sleep Duration\", \"Quality of Sleep\", \"Physical Activity Level\", \"Stress Level\"]\n",
    "vec_assembler = VectorAssembler(inputCols=features, outputCol=\"features\")\n",
    "df_kmeans = vec_assembler.transform(df)\n",
    "\n",
    "# Chạy K-means\n",
    "kmeans = KMeans(k=3, seed=1)\n",
    "model = kmeans.fit(df_kmeans)\n",
    "predictions = model.transform(df_kmeans)\n",
    "\n",
    "# Hiển thị các nhóm\n",
    "predictions.select(\"Person ID\", \"prediction\").show()"
   ]
  },
  {
   "cell_type": "code",
   "execution_count": 13,
   "metadata": {},
   "outputs": [],
   "source": [
    "from pyspark.sql.functions import col\n",
    "\n",
    "# Nếu cột cần thiết, bạn có thể loại bỏ các giá trị không hợp lệ trước khi thực hiện các phép toán\n",
    "df = df.filter(col(\"BMI Category\").isNotNull())\n"
   ]
  },
  {
   "cell_type": "code",
   "execution_count": 14,
   "metadata": {},
   "outputs": [
    {
     "name": "stdout",
     "output_type": "stream",
     "text": [
      "+-------------+\n",
      "| BMI Category|\n",
      "+-------------+\n",
      "|Normal Weight|\n",
      "|   Overweight|\n",
      "|        Obese|\n",
      "|       Normal|\n",
      "+-------------+\n",
      "\n"
     ]
    }
   ],
   "source": [
    "# Hiển thị các giá trị duy nhất trong cột \"BMI Category\"\n",
    "df.select(\"BMI Category\").distinct().show()\n"
   ]
  },
  {
   "cell_type": "code",
   "execution_count": 15,
   "metadata": {},
   "outputs": [],
   "source": [
    "from pyspark.sql.functions import when, col\n",
    "\n",
    "# Chuẩn hóa các giá trị trong cột \"BMI Category\"\n",
    "df = df.withColumn(\n",
    "    \"BMI Category\",\n",
    "    when(col(\"BMI Category\").like(\"Normal Weight\"), \"Normal\")  # Chuyển \"Normal Weight\" thành \"Normal\"\n",
    "    .otherwise(col(\"BMI Category\"))  # Giữ nguyên các giá trị khác\n",
    ")\n"
   ]
  },
  {
   "cell_type": "code",
   "execution_count": 16,
   "metadata": {},
   "outputs": [],
   "source": [
    "# Loại bỏ các giá trị không hợp lệ (giả sử bạn muốn giữ lại chỉ những giá trị hợp lệ)\n",
    "valid_categories = [\"Normal\", \"Overweight\", \"Obese\"]\n",
    "df = df.filter(col(\"BMI Category\").isin(valid_categories))"
   ]
  },
  {
   "cell_type": "code",
   "execution_count": 17,
   "metadata": {},
   "outputs": [
    {
     "name": "stdout",
     "output_type": "stream",
     "text": [
      "+-------+------------------+------------------+------------------+\n",
      "|summary|    Sleep Duration|  Quality of Sleep|      Stress Level|\n",
      "+-------+------------------+------------------+------------------+\n",
      "|  count|               374|               374|               374|\n",
      "|   mean| 7.132085561497317|  7.31283422459893| 5.385026737967914|\n",
      "| stddev|0.7956567308898186|1.1969559197336053|1.7745264441985202|\n",
      "|    min|               5.8|                 4|                 3|\n",
      "|    max|               8.5|                 9|                 8|\n",
      "+-------+------------------+------------------+------------------+\n",
      "\n"
     ]
    }
   ],
   "source": [
    "# Thống kê mô tả cho một số trường cụ thể\n",
    "df.select(\"Sleep Duration\", \"Quality of Sleep\", \"Stress Level\").describe().show()\n"
   ]
  },
  {
   "cell_type": "code",
   "execution_count": 18,
   "metadata": {},
   "outputs": [
    {
     "name": "stdout",
     "output_type": "stream",
     "text": [
      "+------------+-----+\n",
      "|BMI Category|count|\n",
      "+------------+-----+\n",
      "|  Overweight|  148|\n",
      "|       Obese|   10|\n",
      "|      Normal|  216|\n",
      "+------------+-----+\n",
      "\n",
      "+------------+---------+----------+\n",
      "|BMI Category| features|prediction|\n",
      "+------------+---------+----------+\n",
      "|  Overweight|[6.1,6.0]|         2|\n",
      "|      Normal|[6.2,8.0]|         0|\n",
      "|      Normal|[6.2,8.0]|         0|\n",
      "|       Obese|[5.9,8.0]|         0|\n",
      "|       Obese|[5.9,8.0]|         0|\n",
      "|       Obese|[5.9,8.0]|         0|\n",
      "|       Obese|[6.3,7.0]|         0|\n",
      "|      Normal|[7.8,6.0]|         2|\n",
      "|      Normal|[7.8,6.0]|         2|\n",
      "|      Normal|[7.8,6.0]|         2|\n",
      "|      Normal|[6.1,8.0]|         0|\n",
      "|      Normal|[7.8,6.0]|         2|\n",
      "|      Normal|[6.1,8.0]|         0|\n",
      "|      Normal|[6.0,8.0]|         0|\n",
      "|      Normal|[6.0,8.0]|         0|\n",
      "|      Normal|[6.0,8.0]|         0|\n",
      "|      Normal|[6.5,7.0]|         0|\n",
      "|      Normal|[6.0,8.0]|         0|\n",
      "|      Normal|[6.5,7.0]|         0|\n",
      "|      Normal|[7.6,6.0]|         2|\n",
      "+------------+---------+----------+\n",
      "only showing top 20 rows\n",
      "\n"
     ]
    }
   ],
   "source": [
    "# Ví dụ: Đếm số lượng người theo từng loại BMI\n",
    "df.groupBy(\"BMI Category\").count().show()\n",
    "\n",
    "# Hoặc áp dụng các thuật toán phân cụm (clustering) nếu cần\n",
    "from pyspark.ml.clustering import KMeans\n",
    "from pyspark.ml.feature import VectorAssembler\n",
    "\n",
    "# Chọn các trường để phân cụm\n",
    "assembler = VectorAssembler(inputCols=[\"Sleep Duration\", \"Stress Level\"], outputCol=\"features\")\n",
    "feature_data = assembler.transform(df)\n",
    "\n",
    "# Áp dụng KMeans\n",
    "kmeans = KMeans(k=3, seed=1)  # Chọn số cụm\n",
    "model = kmeans.fit(feature_data)\n",
    "\n",
    "# Dự đoán các cụm\n",
    "predictions = model.transform(feature_data)\n",
    "predictions.select(\"BMI Category\", \"features\", \"prediction\").show()"
   ]
  },
  {
   "cell_type": "code",
   "execution_count": 23,
   "metadata": {},
   "outputs": [],
   "source": [
    "from pyspark.sql.functions import col\n",
    "\n",
    "# Chuyển đổi các cột sang kiểu số nếu cần\n",
    "df = df.withColumn(\"Sleep Duration\", col(\"Sleep Duration\").cast(\"double\"))\n",
    "df = df.withColumn(\"Stress Level\", col(\"Stress Level\").cast(\"double\"))\n"
   ]
  },
  {
   "cell_type": "code",
   "execution_count": 24,
   "metadata": {},
   "outputs": [
    {
     "name": "stdout",
     "output_type": "stream",
     "text": [
      "+---------+\n",
      "| features|\n",
      "+---------+\n",
      "|[6.1,6.0]|\n",
      "|[6.2,8.0]|\n",
      "|[6.2,8.0]|\n",
      "|[5.9,8.0]|\n",
      "|[5.9,8.0]|\n",
      "|[5.9,8.0]|\n",
      "|[6.3,7.0]|\n",
      "|[7.8,6.0]|\n",
      "|[7.8,6.0]|\n",
      "|[7.8,6.0]|\n",
      "|[6.1,8.0]|\n",
      "|[7.8,6.0]|\n",
      "|[6.1,8.0]|\n",
      "|[6.0,8.0]|\n",
      "|[6.0,8.0]|\n",
      "|[6.0,8.0]|\n",
      "|[6.5,7.0]|\n",
      "|[6.0,8.0]|\n",
      "|[6.5,7.0]|\n",
      "|[7.6,6.0]|\n",
      "+---------+\n",
      "only showing top 20 rows\n",
      "\n"
     ]
    }
   ],
   "source": [
    "from pyspark.ml.feature import VectorAssembler\n",
    "\n",
    "# Tạo VectorAssembler với các cột đầu vào\n",
    "assembler = VectorAssembler(inputCols=[\"Sleep Duration\", \"Stress Level\"], outputCol=\"features\")\n",
    "\n",
    "# Áp dụng VectorAssembler\n",
    "df_regression = assembler.transform(df)\n",
    "\n",
    "# Hiển thị kết quả\n",
    "df_regression.select(\"features\").show()"
   ]
  }
 ],
 "metadata": {
  "kernelspec": {
   "display_name": "env",
   "language": "python",
   "name": "python3"
  },
  "language_info": {
   "codemirror_mode": {
    "name": "ipython",
    "version": 3
   },
   "file_extension": ".py",
   "mimetype": "text/x-python",
   "name": "python",
   "nbconvert_exporter": "python",
   "pygments_lexer": "ipython3",
   "version": "3.12.3"
  }
 },
 "nbformat": 4,
 "nbformat_minor": 2
}
