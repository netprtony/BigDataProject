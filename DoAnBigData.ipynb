{
 "cells": [
  {
   "cell_type": "code",
   "execution_count": 72,
   "metadata": {},
   "outputs": [
    {
     "name": "stdout",
     "output_type": "stream",
     "text": [
      "+---------+------+---+--------------+--------------+----------------+-----------------------+------------+-------------+--------------+----------+-----------+--------------+\n",
      "|Person ID|Gender|Age|    Occupation|Sleep Duration|Quality of Sleep|Physical Activity Level|Stress Level| BMI Category|Blood Pressure|Heart Rate|Daily Steps|Sleep Disorder|\n",
      "+---------+------+---+--------------+--------------+----------------+-----------------------+------------+-------------+--------------+----------+-----------+--------------+\n",
      "|        1|  Male| 27|      Software|           6.1|               6|                     42|           6|   Overweight|        126/83|        77|       4200|          None|\n",
      "|        2|  Male| 28|      Engineer|           6.2|               6|                     60|           8|       Normal|        125/80|        75|      10000|          None|\n",
      "|        3|  Male| 28|        Doctor|           6.2|               6|                     60|           8|       Normal|        125/80|        75|      10000|          None|\n",
      "|        4|  Male| 28|        Doctor|           5.9|               4|                     30|           8|        Obese|        140/90|        85|       3000|   Sleep Apnea|\n",
      "|        5|  Male| 28|         Sales|           5.9|               4|                     30|           8|        Obese|        140/90|        85|       3000|   Sleep Apnea|\n",
      "|        6|  Male| 28|Representative|           5.9|               4|                     30|           8|        Obese|        140/90|        85|       3000|      Insomnia|\n",
      "|        7|  Male| 29|         Sales|           6.3|               6|                     40|           7|        Obese|        140/90|        82|       3500|      Insomnia|\n",
      "|        8|  Male| 29|Representative|           7.8|               7|                     75|           6|       Normal|        120/80|        70|       8000|          None|\n",
      "|        9|  Male| 29|      Software|           7.8|               7|                     75|           6|       Normal|        120/80|        70|       8000|          None|\n",
      "|       10|  Male| 29|      Engineer|           7.8|               7|                     75|           6|       Normal|        120/80|        70|       8000|          None|\n",
      "|       11|  Male| 29|       Teacher|           6.1|               6|                     30|           8|       Normal|        120/80|        70|       8000|          None|\n",
      "|       12|  Male| 29|        Doctor|           7.8|               7|                     75|           6|       Normal|        120/80|        70|       8000|          None|\n",
      "|       13|  Male| 29|        Doctor|           6.1|               6|                     30|           8|       Normal|        120/80|        70|       8000|          None|\n",
      "|       14|  Male| 29|        Doctor|           6.0|               6|                     30|           8|       Normal|        120/80|        70|       8000|          None|\n",
      "|       15|  Male| 29|        Doctor|           6.0|               6|                     30|           8|       Normal|        120/80|        70|       8000|          None|\n",
      "|       16|  Male| 29|        Doctor|           6.0|               6|                     30|           8|       Normal|        120/80|        70|       8000|          None|\n",
      "|       17|Female| 29|        Doctor|           6.5|               5|                     40|           7|Normal Weight|        132/87|        80|       4000|   Sleep Apnea|\n",
      "|       18|  Male| 29|        Doctor|           6.0|               6|                     30|           8|       Normal|        120/80|        70|       8000|   Sleep Apnea|\n",
      "|       19|Female| 29|        Doctor|           6.5|               5|                     40|           7|Normal Weight|        132/87|        80|       4000|      Insomnia|\n",
      "|       20|  Male| 30|        Doctor|           7.6|               7|                     75|           6|       Normal|        120/80|        70|       8000|          None|\n",
      "+---------+------+---+--------------+--------------+----------------+-----------------------+------------+-------------+--------------+----------+-----------+--------------+\n",
      "only showing top 20 rows\n",
      "\n"
     ]
    }
   ],
   "source": [
    "from pyspark.sql import SparkSession\n",
    "\n",
    "# Khởi tạo Spark Session\n",
    "spark = SparkSession.builder \\\n",
    "    .appName(\"Sleep Heathy and Life Style\") \\\n",
    "    .getOrCreate()\n",
    "\n",
    "# Đọc dữ liệu từ HDFS\n",
    "hdfs_path = \"hdfs://localhost:9000/user/netprtony/14-Sleep_health_and_lifestyle_dataset.csv\"\n",
    "df = spark.read.csv(hdfs_path, header=True, inferSchema=True)\n",
    "\n",
    "# Hiển thị dữ liệu\n",
    "df.show()\n",
    "\n"
   ]
  }
 ],
 "metadata": {
  "kernelspec": {
   "display_name": "env",
   "language": "python",
   "name": "python3"
  },
  "language_info": {
   "codemirror_mode": {
    "name": "ipython",
    "version": 3
   },
   "file_extension": ".py",
   "mimetype": "text/x-python",
   "name": "python",
   "nbconvert_exporter": "python",
   "pygments_lexer": "ipython3",
   "version": "3.12.3"
  }
 },
 "nbformat": 4,
 "nbformat_minor": 2
}
